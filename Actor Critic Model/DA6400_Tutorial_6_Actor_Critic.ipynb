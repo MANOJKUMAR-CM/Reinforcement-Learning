{
  "cells": [
    {
      "cell_type": "markdown",
      "metadata": {
        "id": "ogYi-LuvgAEQ"
      },
      "source": [
        "# Tutorial: Actor Critic Implementation\n"
      ]
    },
    {
      "cell_type": "code",
      "execution_count": 1,
      "metadata": {
        "id": "020OsgLKgJoS"
      },
      "outputs": [],
      "source": [
        "# Import required libraries\n",
        "\n",
        "import argparse\n",
        "import gymnasium as gym\n",
        "import numpy as np\n",
        "from collections import namedtuple\n",
        "\n",
        "import torch\n",
        "import torch.nn as nn\n",
        "import torch.nn.functional as F\n",
        "import torch.optim as optim\n",
        "from torch.distributions import Categorical"
      ]
    },
    {
      "cell_type": "code",
      "execution_count": 2,
      "metadata": {
        "id": "BOx__gzXgP3T"
      },
      "outputs": [],
      "source": [
        "# Set constants for training # DO NOT CHANGE\n",
        "seed = 543\n",
        "log_interval = 10\n",
        "gamma = 0.99\n",
        "\n",
        "env = gym.make('CartPole-v1')\n",
        "env.reset(seed=seed)\n",
        "torch.manual_seed(seed)\n",
        "\n",
        "SavedAction = namedtuple('SavedAction', ['log_prob', 'value'])"
      ]
    },
    {
      "cell_type": "code",
      "execution_count": 3,
      "metadata": {
        "id": "dYf6f8SBeQYo"
      },
      "outputs": [],
      "source": [
        "\n",
        "class Policy(nn.Module):\n",
        "    \"\"\"\n",
        "    implements both actor and critic in one model\n",
        "    \"\"\"\n",
        "\n",
        "    def __init__(self):\n",
        "        super(Policy, self).__init__()\n",
        "        self.affine1 = nn.Linear(4, 128)\n",
        "\n",
        "        # actor's layer\n",
        "        self.action_head = nn.Linear(128, 2)\n",
        "\n",
        "        # critic's layer\n",
        "        self.value_head = nn.Linear(128, 1)\n",
        "\n",
        "        # action & reward buffer\n",
        "        self.saved_actions = []\n",
        "        self.rewards = []\n",
        "\n",
        "    def forward(self, x):\n",
        "        \"\"\"\n",
        "        forward of both actor and critic\n",
        "        \"\"\"\n",
        "        x = F.relu(self.affine1(x))\n",
        "\n",
        "        # actor: choses action to take from state s_t\n",
        "        # by returning probability of each action\n",
        "        action_prob = F.softmax(self.action_head(x), dim=-1)\n",
        "\n",
        "        # critic: evaluates being in the state s_t\n",
        "        state_values = self.value_head(x)\n",
        "\n",
        "        # return values for both actor and critic as a tuple of 2 values:\n",
        "        # 1. a list with the probability of each action over the action space\n",
        "        # 2. the value from state s_t\n",
        "        return action_prob, state_values"
      ]
    },
    {
      "cell_type": "code",
      "execution_count": 4,
      "metadata": {
        "id": "qrVieI21i3O9"
      },
      "outputs": [],
      "source": [
        "# DO NOT Modify Training Code\n",
        "\n",
        "def select_action(state):\n",
        "    state = torch.from_numpy(state).float()\n",
        "    probs, state_value = model(state)\n",
        "\n",
        "    # create a categorical distribution over the list of probabilities of actions\n",
        "    m = Categorical(probs)\n",
        "\n",
        "    # and sample an action using the distribution\n",
        "    action = m.sample()\n",
        "\n",
        "    # save to action buffer\n",
        "    model.saved_actions.append(SavedAction(m.log_prob(action), state_value))\n",
        "\n",
        "    # the action to take (left or right)\n",
        "    return action.item()\n",
        "\n",
        "\n",
        "def finish_episode():\n",
        "    \"\"\"\n",
        "    Training code. Calculates actor and critic loss and performs backprop.\n",
        "    \"\"\"\n",
        "    R = 0\n",
        "    saved_actions = model.saved_actions\n",
        "    policy_losses = []  # list to save actor (policy) loss\n",
        "    value_losses = []  # list to save critic (value) loss\n",
        "    returns = []  # list to save the true values\n",
        "\n",
        "    # calculate the true value using rewards returned from the environment\n",
        "    for r in model.rewards[::-1]:\n",
        "        # calculate the discounted value\n",
        "        R = r + gamma * R\n",
        "        returns.insert(0, R)\n",
        "\n",
        "    returns = torch.tensor(returns)\n",
        "    returns = (returns - returns.mean()) / (returns.std() + eps)\n",
        "\n",
        "    for (log_prob, value), R in zip(saved_actions, returns):\n",
        "        advantage = R - value.item()\n",
        "\n",
        "        # calculate actor (policy) loss\n",
        "        policy_losses.append(-log_prob * advantage)\n",
        "\n",
        "        # calculate critic (value) loss using L1 smooth loss\n",
        "        value_losses.append(F.smooth_l1_loss(value, torch.tensor([R])))\n",
        "\n",
        "    # reset gradients\n",
        "    optimizer.zero_grad()\n",
        "\n",
        "    # sum up all the values of policy_losses and value_losses\n",
        "    loss = torch.stack(policy_losses).sum() + torch.stack(value_losses).sum()\n",
        "\n",
        "    # perform backprop\n",
        "    loss.backward()\n",
        "    optimizer.step()\n",
        "\n",
        "    # reset rewards and action buffer\n",
        "    del model.rewards[:]\n",
        "    del model.saved_actions[:]\n",
        "\n",
        "\n",
        "def train():\n",
        "    running_reward = 10\n",
        "\n",
        "    # run infinitely many episodes\n",
        "    for i_episode in range(2000):\n",
        "\n",
        "        # reset environment and episode reward\n",
        "        state = env.reset()[0]\n",
        "        ep_reward = 0\n",
        "\n",
        "        # for each episode, only run 9999 steps so that we don't\n",
        "        # infinite loop while learning\n",
        "        for t in range(1, 10000):\n",
        "\n",
        "            # select action from policy\n",
        "            action = select_action(state)\n",
        "\n",
        "            # take the action\n",
        "            state, reward, done, truncated, _ = env.step(action)\n",
        "\n",
        "            model.rewards.append(reward)\n",
        "            ep_reward += reward\n",
        "            if done:\n",
        "                break\n",
        "\n",
        "        # update cumulative reward\n",
        "        running_reward = 0.05 * ep_reward + (1 - 0.05) * running_reward\n",
        "\n",
        "        # perform backprop\n",
        "        finish_episode()\n",
        "\n",
        "        # log results\n",
        "        if i_episode % log_interval == 0:\n",
        "            print('Episode {}\\tLast reward: {:.2f}\\tAverage reward: {:.2f}'.format(\n",
        "                  i_episode, ep_reward, running_reward))\n",
        "\n",
        "        # check if we have \"solved\" the cart pole problem\n",
        "        if running_reward > env.spec.reward_threshold:\n",
        "            print(\"Solved! Running reward is now {} and \"\n",
        "                  \"the last episode runs to {} time steps!\".format(running_reward, t))\n",
        "            break"
      ]
    },
    {
      "cell_type": "code",
      "execution_count": 14,
      "metadata": {
        "colab": {
          "base_uri": "https://localhost:8080/"
        },
        "id": "jUT3maPMlGi2",
        "outputId": "782da779-8e6b-4fa7-8adf-f3a8355969d7"
      },
      "outputs": [
        {
          "output_type": "stream",
          "name": "stdout",
          "text": [
            "Episode 0\tLast reward: 28.00\tAverage reward: 10.90\n",
            "Episode 10\tLast reward: 63.00\tAverage reward: 19.10\n",
            "Episode 20\tLast reward: 322.00\tAverage reward: 59.17\n",
            "Episode 30\tLast reward: 82.00\tAverage reward: 110.03\n",
            "Episode 40\tLast reward: 98.00\tAverage reward: 101.12\n",
            "Episode 50\tLast reward: 92.00\tAverage reward: 92.00\n",
            "Episode 60\tLast reward: 256.00\tAverage reward: 176.70\n",
            "Episode 70\tLast reward: 268.00\tAverage reward: 188.68\n",
            "Solved! Running reward is now 670.8592141216325 and the last episode runs to 9319 time steps!\n",
            "CPU times: user 20.2 s, sys: 35.1 ms, total: 20.3 s\n",
            "Wall time: 20.9 s\n"
          ]
        }
      ],
      "source": [
        "%%time\n",
        "# Trail 1\n",
        "model = Policy()\n",
        "optimizer = optim.Adam(model.parameters(), lr=1.5e-2)\n",
        "eps = np.finfo(np.float32).eps.item()\n",
        "train()"
      ]
    },
    {
      "cell_type": "code",
      "source": [
        "%%time\n",
        "# Trail 2\n",
        "model = Policy()\n",
        "optimizer = optim.Adam(model.parameters(), lr=1.5e-2)\n",
        "eps = np.finfo(np.float32).eps.item()\n",
        "train()"
      ],
      "metadata": {
        "colab": {
          "base_uri": "https://localhost:8080/"
        },
        "id": "ZbabcjFPaC5K",
        "outputId": "cec96d76-52cf-4e3c-cb12-15c33342a600"
      },
      "execution_count": 15,
      "outputs": [
        {
          "output_type": "stream",
          "name": "stdout",
          "text": [
            "Episode 0\tLast reward: 14.00\tAverage reward: 10.20\n",
            "Episode 10\tLast reward: 11.00\tAverage reward: 12.16\n",
            "Episode 20\tLast reward: 10.00\tAverage reward: 14.00\n",
            "Episode 30\tLast reward: 15.00\tAverage reward: 15.94\n",
            "Episode 40\tLast reward: 34.00\tAverage reward: 19.84\n",
            "Episode 50\tLast reward: 81.00\tAverage reward: 38.05\n",
            "Episode 60\tLast reward: 197.00\tAverage reward: 63.05\n",
            "Episode 70\tLast reward: 200.00\tAverage reward: 109.05\n",
            "Episode 80\tLast reward: 41.00\tAverage reward: 87.67\n",
            "Episode 90\tLast reward: 242.00\tAverage reward: 89.43\n",
            "Episode 100\tLast reward: 97.00\tAverage reward: 170.49\n",
            "Episode 110\tLast reward: 311.00\tAverage reward: 212.84\n",
            "Episode 120\tLast reward: 437.00\tAverage reward: 261.66\n",
            "Episode 130\tLast reward: 219.00\tAverage reward: 316.11\n",
            "Episode 140\tLast reward: 44.00\tAverage reward: 249.87\n",
            "Episode 150\tLast reward: 106.00\tAverage reward: 197.43\n",
            "Episode 160\tLast reward: 213.00\tAverage reward: 219.95\n",
            "Solved! Running reward is now 538.783586169595 and the last episode runs to 6095 time steps!\n",
            "CPU times: user 29 s, sys: 48.9 ms, total: 29 s\n",
            "Wall time: 29.1 s\n"
          ]
        }
      ]
    },
    {
      "cell_type": "code",
      "source": [
        "%%time\n",
        "# Trail 3\n",
        "model = Policy()\n",
        "optimizer = optim.Adam(model.parameters(), lr=1.5e-2)\n",
        "eps = np.finfo(np.float32).eps.item()\n",
        "train()"
      ],
      "metadata": {
        "colab": {
          "base_uri": "https://localhost:8080/"
        },
        "id": "mfb2qCo6aCuZ",
        "outputId": "a5e09248-a973-4005-e80e-25824b8f1a78"
      },
      "execution_count": 17,
      "outputs": [
        {
          "output_type": "stream",
          "name": "stdout",
          "text": [
            "Episode 0\tLast reward: 17.00\tAverage reward: 10.35\n",
            "Episode 10\tLast reward: 38.00\tAverage reward: 16.29\n",
            "Episode 20\tLast reward: 104.00\tAverage reward: 34.82\n",
            "Episode 30\tLast reward: 28.00\tAverage reward: 61.61\n",
            "Episode 40\tLast reward: 97.00\tAverage reward: 71.99\n",
            "Episode 50\tLast reward: 87.00\tAverage reward: 77.92\n",
            "Episode 60\tLast reward: 23.00\tAverage reward: 76.47\n",
            "Episode 70\tLast reward: 28.00\tAverage reward: 66.68\n",
            "Episode 80\tLast reward: 158.00\tAverage reward: 77.86\n",
            "Episode 90\tLast reward: 59.00\tAverage reward: 90.38\n",
            "Episode 100\tLast reward: 99.00\tAverage reward: 95.70\n",
            "Episode 110\tLast reward: 529.00\tAverage reward: 135.16\n",
            "Episode 120\tLast reward: 312.00\tAverage reward: 178.71\n",
            "Episode 130\tLast reward: 619.00\tAverage reward: 251.69\n",
            "Episode 140\tLast reward: 926.00\tAverage reward: 300.43\n",
            "Solved! Running reward is now 554.9558954068989 and the last episode runs to 5285 time steps!\n",
            "CPU times: user 24.3 s, sys: 107 ms, total: 24.4 s\n",
            "Wall time: 24.7 s\n"
          ]
        }
      ]
    },
    {
      "cell_type": "markdown",
      "metadata": {
        "id": "lA2T0_22kK3g"
      },
      "source": [
        "# TODO: Write a policy class similar to the above, without using shared features for the actor and critic and compare their performance.\n"
      ]
    },
    {
      "cell_type": "code",
      "execution_count": 8,
      "metadata": {
        "id": "qkE5fjLieZVg"
      },
      "outputs": [],
      "source": [
        "\n",
        "# TODO: Write a policy class similar to the above, without using shared features for the actor and critic and compare their\n",
        "# performance.\n",
        "\n",
        "class UnsharedPolicy(nn.Module):\n",
        "    def __init__(self):\n",
        "        super(UnsharedPolicy, self).__init__()\n",
        "        # TODO: Fill in.\n",
        "        hidden_size = 128\n",
        "        # Actor network\n",
        "        self.actor_affine1 = nn.Linear(4, hidden_size)\n",
        "        self.action_head = nn.Linear(hidden_size, 2)\n",
        "\n",
        "        # Critic network\n",
        "        self.critic_affine1 = nn.Linear(4, hidden_size)\n",
        "        self.value_head = nn.Linear(hidden_size, 1)\n",
        "\n",
        "        self.saved_actions = []\n",
        "        self.rewards = []\n",
        "\n",
        "    def forward(self, x):\n",
        "        # TODO: Fill in. For your networks, use the same hidden_size for the layers as the previous policy, that is 128.\n",
        "        # Actor forward pass\n",
        "        actor_x = F.relu(self.actor_affine1(x))\n",
        "        action_prob = F.softmax(self.action_head(actor_x), dim=-1)\n",
        "\n",
        "        # Critic forward pass\n",
        "        critic_x = F.relu(self.critic_affine1(x))\n",
        "        state_values = self.value_head(critic_x)\n",
        "        # return values for both actor and critic as a tuple of 2 values:\n",
        "        # 1. A list with the probability of each action over the action space\n",
        "        # 2. The value from state s_t\n",
        "        return action_prob, state_values\n",
        "\n"
      ]
    },
    {
      "cell_type": "code",
      "execution_count": 9,
      "metadata": {
        "id": "FG2ZpUfdkdif",
        "colab": {
          "base_uri": "https://localhost:8080/"
        },
        "outputId": "eabe1ef3-c436-44f3-eba1-e0d500737a1b"
      },
      "outputs": [
        {
          "output_type": "stream",
          "name": "stdout",
          "text": [
            "Episode 0\tLast reward: 12.00\tAverage reward: 10.10\n",
            "Episode 10\tLast reward: 72.00\tAverage reward: 21.01\n",
            "Episode 20\tLast reward: 78.00\tAverage reward: 37.09\n",
            "Episode 30\tLast reward: 32.00\tAverage reward: 48.21\n",
            "Episode 40\tLast reward: 131.00\tAverage reward: 91.93\n",
            "Episode 50\tLast reward: 80.00\tAverage reward: 87.19\n",
            "Episode 60\tLast reward: 105.00\tAverage reward: 83.80\n",
            "Episode 70\tLast reward: 438.00\tAverage reward: 134.90\n",
            "Episode 80\tLast reward: 661.00\tAverage reward: 359.26\n",
            "Episode 90\tLast reward: 215.00\tAverage reward: 326.31\n",
            "Episode 100\tLast reward: 195.00\tAverage reward: 289.66\n",
            "Episode 110\tLast reward: 189.00\tAverage reward: 264.00\n",
            "Episode 120\tLast reward: 108.00\tAverage reward: 233.10\n",
            "Episode 130\tLast reward: 39.00\tAverage reward: 182.92\n",
            "Episode 140\tLast reward: 103.00\tAverage reward: 139.45\n",
            "Episode 150\tLast reward: 104.00\tAverage reward: 124.55\n",
            "Episode 160\tLast reward: 88.00\tAverage reward: 111.15\n",
            "Episode 170\tLast reward: 123.00\tAverage reward: 110.90\n",
            "Episode 180\tLast reward: 154.00\tAverage reward: 123.97\n",
            "Episode 190\tLast reward: 212.00\tAverage reward: 149.61\n",
            "Episode 200\tLast reward: 377.00\tAverage reward: 208.81\n",
            "Episode 210\tLast reward: 406.00\tAverage reward: 294.45\n",
            "Solved! Running reward is now 844.579265464063 and the last episode runs to 9999 time steps!\n",
            "CPU times: user 52.2 s, sys: 148 ms, total: 52.3 s\n",
            "Wall time: 52.5 s\n"
          ]
        }
      ],
      "source": [
        "%%time\n",
        "# Trail 1\n",
        "model = UnsharedPolicy()\n",
        "optimizer = optim.Adam(model.parameters(), lr=1.5e-2)\n",
        "eps = np.finfo(np.float32).eps.item()\n",
        "train()"
      ]
    },
    {
      "cell_type": "code",
      "source": [
        "%%time\n",
        "# Trail 2\n",
        "model = UnsharedPolicy()\n",
        "optimizer = optim.Adam(model.parameters(), lr=1.5e-2)\n",
        "eps = np.finfo(np.float32).eps.item()\n",
        "train()"
      ],
      "metadata": {
        "colab": {
          "base_uri": "https://localhost:8080/"
        },
        "id": "FHq_i44sUPgB",
        "outputId": "584e3b04-188e-4e6e-96f3-7a2afaf9935f"
      },
      "execution_count": 11,
      "outputs": [
        {
          "output_type": "stream",
          "name": "stdout",
          "text": [
            "Episode 0\tLast reward: 10.00\tAverage reward: 10.00\n",
            "Episode 10\tLast reward: 9.00\tAverage reward: 10.57\n",
            "Episode 20\tLast reward: 12.00\tAverage reward: 11.45\n",
            "Episode 30\tLast reward: 10.00\tAverage reward: 11.09\n",
            "Episode 40\tLast reward: 9.00\tAverage reward: 11.12\n",
            "Episode 50\tLast reward: 11.00\tAverage reward: 12.45\n",
            "Episode 60\tLast reward: 46.00\tAverage reward: 17.77\n",
            "Episode 70\tLast reward: 34.00\tAverage reward: 27.80\n",
            "Episode 80\tLast reward: 77.00\tAverage reward: 47.31\n",
            "Episode 90\tLast reward: 54.00\tAverage reward: 49.86\n",
            "Episode 100\tLast reward: 75.00\tAverage reward: 59.78\n",
            "Episode 110\tLast reward: 101.00\tAverage reward: 69.92\n",
            "Episode 120\tLast reward: 67.00\tAverage reward: 73.71\n",
            "Episode 130\tLast reward: 74.00\tAverage reward: 80.61\n",
            "Episode 140\tLast reward: 40.00\tAverage reward: 74.51\n",
            "Episode 150\tLast reward: 44.00\tAverage reward: 67.89\n",
            "Episode 160\tLast reward: 46.00\tAverage reward: 61.33\n",
            "Episode 170\tLast reward: 106.00\tAverage reward: 68.41\n",
            "Episode 180\tLast reward: 181.00\tAverage reward: 92.58\n",
            "Episode 190\tLast reward: 120.00\tAverage reward: 98.85\n",
            "Episode 200\tLast reward: 133.00\tAverage reward: 105.84\n",
            "Episode 210\tLast reward: 197.00\tAverage reward: 135.52\n",
            "Episode 220\tLast reward: 131.00\tAverage reward: 127.97\n",
            "Episode 230\tLast reward: 152.00\tAverage reward: 130.90\n",
            "Solved! Running reward is now 669.9642084534141 and the last episode runs to 9999 time steps!\n",
            "CPU times: user 31 s, sys: 62.5 ms, total: 31.1 s\n",
            "Wall time: 33.9 s\n"
          ]
        }
      ]
    },
    {
      "cell_type": "code",
      "source": [
        "%%time\n",
        "# Trail 3\n",
        "model = UnsharedPolicy()\n",
        "optimizer = optim.Adam(model.parameters(), lr=1.5e-2)\n",
        "eps = np.finfo(np.float32).eps.item()\n",
        "train()"
      ],
      "metadata": {
        "colab": {
          "base_uri": "https://localhost:8080/"
        },
        "id": "rP7mbVgwaK33",
        "outputId": "52624e69-50b1-4341-a61b-028debaf9a7f"
      },
      "execution_count": 13,
      "outputs": [
        {
          "output_type": "stream",
          "name": "stdout",
          "text": [
            "Episode 0\tLast reward: 42.00\tAverage reward: 11.60\n",
            "Episode 10\tLast reward: 10.00\tAverage reward: 11.06\n",
            "Episode 20\tLast reward: 10.00\tAverage reward: 10.51\n",
            "Episode 30\tLast reward: 10.00\tAverage reward: 10.33\n",
            "Episode 40\tLast reward: 9.00\tAverage reward: 9.96\n",
            "Episode 50\tLast reward: 9.00\tAverage reward: 9.69\n",
            "Episode 60\tLast reward: 10.00\tAverage reward: 9.59\n",
            "Episode 70\tLast reward: 11.00\tAverage reward: 9.73\n",
            "Episode 80\tLast reward: 11.00\tAverage reward: 9.56\n",
            "Episode 90\tLast reward: 11.00\tAverage reward: 9.60\n",
            "Episode 100\tLast reward: 12.00\tAverage reward: 10.66\n",
            "Episode 110\tLast reward: 17.00\tAverage reward: 13.32\n",
            "Episode 120\tLast reward: 15.00\tAverage reward: 16.55\n",
            "Episode 130\tLast reward: 49.00\tAverage reward: 29.21\n",
            "Episode 140\tLast reward: 10.00\tAverage reward: 24.73\n",
            "Episode 150\tLast reward: 19.00\tAverage reward: 24.10\n",
            "Episode 160\tLast reward: 104.00\tAverage reward: 40.09\n",
            "Episode 170\tLast reward: 48.00\tAverage reward: 43.23\n",
            "Episode 180\tLast reward: 50.00\tAverage reward: 50.56\n",
            "Episode 190\tLast reward: 48.00\tAverage reward: 50.56\n",
            "Episode 200\tLast reward: 189.00\tAverage reward: 65.73\n",
            "Episode 210\tLast reward: 106.00\tAverage reward: 144.54\n",
            "Episode 220\tLast reward: 93.00\tAverage reward: 124.08\n",
            "Episode 230\tLast reward: 78.00\tAverage reward: 106.24\n",
            "Episode 240\tLast reward: 75.00\tAverage reward: 91.86\n",
            "Episode 250\tLast reward: 78.00\tAverage reward: 85.44\n",
            "Episode 260\tLast reward: 106.00\tAverage reward: 82.58\n",
            "Episode 270\tLast reward: 119.00\tAverage reward: 94.06\n",
            "Episode 280\tLast reward: 115.00\tAverage reward: 103.90\n",
            "Episode 290\tLast reward: 147.00\tAverage reward: 110.33\n",
            "Episode 300\tLast reward: 118.00\tAverage reward: 114.31\n",
            "Episode 310\tLast reward: 113.00\tAverage reward: 120.09\n",
            "Episode 320\tLast reward: 93.00\tAverage reward: 115.12\n",
            "Episode 330\tLast reward: 191.00\tAverage reward: 127.87\n",
            "Solved! Running reward is now 698.7663821435183 and the last episode runs to 9999 time steps!\n",
            "CPU times: user 35.7 s, sys: 75.8 ms, total: 35.8 s\n",
            "Wall time: 36 s\n"
          ]
        }
      ]
    },
    {
      "cell_type": "markdown",
      "source": [
        "By Running the experiments for 3 consecutive trails, It is observed that the Actor Critic model with `shared features` perform better than the Actor critic model with `unshared features`.\n",
        "\n",
        "The model with shared features learns a common feature representation by which the actor and critic update their parameters. Due to this there is stable updates and faster learning. The trails conducted also indicate the same, where model with shared features learns to solve the environment in lesser number of epochs compared to model with unshared features."
      ],
      "metadata": {
        "id": "YLmI6N-bcx08"
      }
    },
    {
      "cell_type": "code",
      "source": [],
      "metadata": {
        "id": "7g3x2GTDbPv9"
      },
      "execution_count": null,
      "outputs": []
    }
  ],
  "metadata": {
    "colab": {
      "provenance": [],
      "gpuType": "T4"
    },
    "kernelspec": {
      "display_name": "Python 3",
      "name": "python3"
    },
    "language_info": {
      "codemirror_mode": {
        "name": "ipython",
        "version": 3
      },
      "file_extension": ".py",
      "mimetype": "text/x-python",
      "name": "python",
      "nbconvert_exporter": "python",
      "pygments_lexer": "ipython3",
      "version": "3.11.7"
    },
    "accelerator": "GPU"
  },
  "nbformat": 4,
  "nbformat_minor": 0
}